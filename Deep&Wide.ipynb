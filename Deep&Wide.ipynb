{
  "nbformat": 4,
  "nbformat_minor": 0,
  "metadata": {
    "colab": {
      "provenance": []
    },
    "kernelspec": {
      "name": "python3",
      "display_name": "Python 3"
    },
    "language_info": {
      "name": "python"
    },
    "accelerator": "GPU"
  },
  "cells": [
    {
      "cell_type": "code",
      "execution_count": null,
      "metadata": {
        "id": "wLKxCtNyB7MJ"
      },
      "outputs": [],
      "source": [
        "import os\n",
        "import pandas as pd\n",
        "import numpy as np\n",
        "from time import time\n",
        "from datetime import datetime, timedelta\n",
        "from sklearn.preprocessing import OneHotEncoder, LabelEncoder, MinMaxScaler\n",
        "from sklearn.model_selection import train_test_split\n",
        "from keras.layers import Input, Embedding, concatenate, Flatten, Dense, Dropout\n",
        "from keras.layers import InputLayer, Activation, Concatenate,Input\n",
        "from keras.models import Model\n",
        "from tensorflow.keras.utils import plot_model\n",
        "from tensorflow.keras.callbacks import TensorBoard, EarlyStopping, ModelCheckpoint\n",
        "import keras\n",
        "import tensorflow as tf"
      ]
    },
    {
      "cell_type": "code",
      "source": [
        "from google.colab import drive\n",
        "drive.mount('/content/drive')"
      ],
      "metadata": {
        "colab": {
          "base_uri": "https://localhost:8080/"
        },
        "id": "7dzznI-DCGOE",
        "outputId": "750f6892-a366-455d-c705-e43ae401c352"
      },
      "execution_count": null,
      "outputs": [
        {
          "output_type": "stream",
          "name": "stdout",
          "text": [
            "Mounted at /content/drive\n"
          ]
        }
      ]
    },
    {
      "cell_type": "markdown",
      "source": [
        "Reading all the files"
      ],
      "metadata": {
        "id": "EGox_4qTUBJd"
      }
    },
    {
      "cell_type": "code",
      "source": [
        "data_columns = ['user_id', 'movie_id', 'rating', 'timestamp']\n",
        "item_columns = ['movie_id', 'movie_title', 'release_date', 'video_release_date', 'IMDb_URL', 'unknown', 'Action',\n",
        "             'Adventure', 'Animation', 'Childrens', 'Comedy', 'Crime', 'Documentary', 'Drama', 'Fantasy', 'Film_Noir',\n",
        "             'Horror', 'Musical', 'Mystery', 'Romance ', 'Sci_Fi', 'Thriller', 'War', 'Western']\n",
        "user_columns = ['user_id', 'age', 'gender', 'occupation', 'zip_code']"
      ],
      "metadata": {
        "id": "gsXXwyQmh-9r"
      },
      "execution_count": null,
      "outputs": []
    },
    {
      "cell_type": "code",
      "source": [
        "users = pd.read_csv('/content/drive/Shareddrives/Deep Learning Lab/ml-100k/u.user', sep='|', names=user_columns, encoding='latin-1')\n",
        "item = pd.read_csv('/content/drive/Shareddrives/Deep Learning Lab/ml-100k/u.item', sep='|', names=item_columns, encoding='latin-1')\n",
        "data = pd.read_csv('/content/drive/Shareddrives/Deep Learning Lab/ml-100k/u.data', sep='\\t', names=data_columns, encoding='latin-1')"
      ],
      "metadata": {
        "id": "_rsDvPveiPzr"
      },
      "execution_count": null,
      "outputs": []
    },
    {
      "cell_type": "markdown",
      "source": [
        "Combining the files"
      ],
      "metadata": {
        "id": "HOIBrBpPipu6"
      }
    },
    {
      "cell_type": "code",
      "source": [
        "combined_data= pd.merge(pd.merge(item, data), users)"
      ],
      "metadata": {
        "id": "59VogdGGilBo"
      },
      "execution_count": null,
      "outputs": []
    },
    {
      "cell_type": "code",
      "source": [
        "combined_data.head()"
      ],
      "metadata": {
        "colab": {
          "base_uri": "https://localhost:8080/",
          "height": 421
        },
        "id": "7JTtn4G4iuO8",
        "outputId": "6a9c39f5-1540-411b-e959-41489939f62c"
      },
      "execution_count": null,
      "outputs": [
        {
          "output_type": "execute_result",
          "data": {
            "text/plain": [
              "   movie_id            movie_title release_date  video_release_date  \\\n",
              "0         1       Toy Story (1995)  01-Jan-1995                 NaN   \n",
              "1         4      Get Shorty (1995)  01-Jan-1995                 NaN   \n",
              "2         5         Copycat (1995)  01-Jan-1995                 NaN   \n",
              "3         7  Twelve Monkeys (1995)  01-Jan-1995                 NaN   \n",
              "4         8            Babe (1995)  01-Jan-1995                 NaN   \n",
              "\n",
              "                                            IMDb_URL  unknown  Action  \\\n",
              "0  http://us.imdb.com/M/title-exact?Toy%20Story%2...        0       0   \n",
              "1  http://us.imdb.com/M/title-exact?Get%20Shorty%...        0       1   \n",
              "2  http://us.imdb.com/M/title-exact?Copycat%20(1995)        0       0   \n",
              "3  http://us.imdb.com/M/title-exact?Twelve%20Monk...        0       0   \n",
              "4     http://us.imdb.com/M/title-exact?Babe%20(1995)        0       0   \n",
              "\n",
              "   Adventure  Animation  Childrens  ...  Thriller  War  Western  user_id  \\\n",
              "0          0          1          1  ...         0    0        0      308   \n",
              "1          0          0          0  ...         0    0        0      308   \n",
              "2          0          0          0  ...         1    0        0      308   \n",
              "3          0          0          0  ...         0    0        0      308   \n",
              "4          0          0          1  ...         0    0        0      308   \n",
              "\n",
              "   rating  timestamp  age  gender  occupation  zip_code  \n",
              "0       4  887736532   60       M     retired     95076  \n",
              "1       5  887737890   60       M     retired     95076  \n",
              "2       4  887739608   60       M     retired     95076  \n",
              "3       4  887738847   60       M     retired     95076  \n",
              "4       5  887736696   60       M     retired     95076  \n",
              "\n",
              "[5 rows x 31 columns]"
            ],
            "text/html": [
              "\n",
              "  <div id=\"df-dd6807ed-2506-41d5-9a46-5a5f700433a4\">\n",
              "    <div class=\"colab-df-container\">\n",
              "      <div>\n",
              "<style scoped>\n",
              "    .dataframe tbody tr th:only-of-type {\n",
              "        vertical-align: middle;\n",
              "    }\n",
              "\n",
              "    .dataframe tbody tr th {\n",
              "        vertical-align: top;\n",
              "    }\n",
              "\n",
              "    .dataframe thead th {\n",
              "        text-align: right;\n",
              "    }\n",
              "</style>\n",
              "<table border=\"1\" class=\"dataframe\">\n",
              "  <thead>\n",
              "    <tr style=\"text-align: right;\">\n",
              "      <th></th>\n",
              "      <th>movie_id</th>\n",
              "      <th>movie_title</th>\n",
              "      <th>release_date</th>\n",
              "      <th>video_release_date</th>\n",
              "      <th>IMDb_URL</th>\n",
              "      <th>unknown</th>\n",
              "      <th>Action</th>\n",
              "      <th>Adventure</th>\n",
              "      <th>Animation</th>\n",
              "      <th>Childrens</th>\n",
              "      <th>...</th>\n",
              "      <th>Thriller</th>\n",
              "      <th>War</th>\n",
              "      <th>Western</th>\n",
              "      <th>user_id</th>\n",
              "      <th>rating</th>\n",
              "      <th>timestamp</th>\n",
              "      <th>age</th>\n",
              "      <th>gender</th>\n",
              "      <th>occupation</th>\n",
              "      <th>zip_code</th>\n",
              "    </tr>\n",
              "  </thead>\n",
              "  <tbody>\n",
              "    <tr>\n",
              "      <th>0</th>\n",
              "      <td>1</td>\n",
              "      <td>Toy Story (1995)</td>\n",
              "      <td>01-Jan-1995</td>\n",
              "      <td>NaN</td>\n",
              "      <td>http://us.imdb.com/M/title-exact?Toy%20Story%2...</td>\n",
              "      <td>0</td>\n",
              "      <td>0</td>\n",
              "      <td>0</td>\n",
              "      <td>1</td>\n",
              "      <td>1</td>\n",
              "      <td>...</td>\n",
              "      <td>0</td>\n",
              "      <td>0</td>\n",
              "      <td>0</td>\n",
              "      <td>308</td>\n",
              "      <td>4</td>\n",
              "      <td>887736532</td>\n",
              "      <td>60</td>\n",
              "      <td>M</td>\n",
              "      <td>retired</td>\n",
              "      <td>95076</td>\n",
              "    </tr>\n",
              "    <tr>\n",
              "      <th>1</th>\n",
              "      <td>4</td>\n",
              "      <td>Get Shorty (1995)</td>\n",
              "      <td>01-Jan-1995</td>\n",
              "      <td>NaN</td>\n",
              "      <td>http://us.imdb.com/M/title-exact?Get%20Shorty%...</td>\n",
              "      <td>0</td>\n",
              "      <td>1</td>\n",
              "      <td>0</td>\n",
              "      <td>0</td>\n",
              "      <td>0</td>\n",
              "      <td>...</td>\n",
              "      <td>0</td>\n",
              "      <td>0</td>\n",
              "      <td>0</td>\n",
              "      <td>308</td>\n",
              "      <td>5</td>\n",
              "      <td>887737890</td>\n",
              "      <td>60</td>\n",
              "      <td>M</td>\n",
              "      <td>retired</td>\n",
              "      <td>95076</td>\n",
              "    </tr>\n",
              "    <tr>\n",
              "      <th>2</th>\n",
              "      <td>5</td>\n",
              "      <td>Copycat (1995)</td>\n",
              "      <td>01-Jan-1995</td>\n",
              "      <td>NaN</td>\n",
              "      <td>http://us.imdb.com/M/title-exact?Copycat%20(1995)</td>\n",
              "      <td>0</td>\n",
              "      <td>0</td>\n",
              "      <td>0</td>\n",
              "      <td>0</td>\n",
              "      <td>0</td>\n",
              "      <td>...</td>\n",
              "      <td>1</td>\n",
              "      <td>0</td>\n",
              "      <td>0</td>\n",
              "      <td>308</td>\n",
              "      <td>4</td>\n",
              "      <td>887739608</td>\n",
              "      <td>60</td>\n",
              "      <td>M</td>\n",
              "      <td>retired</td>\n",
              "      <td>95076</td>\n",
              "    </tr>\n",
              "    <tr>\n",
              "      <th>3</th>\n",
              "      <td>7</td>\n",
              "      <td>Twelve Monkeys (1995)</td>\n",
              "      <td>01-Jan-1995</td>\n",
              "      <td>NaN</td>\n",
              "      <td>http://us.imdb.com/M/title-exact?Twelve%20Monk...</td>\n",
              "      <td>0</td>\n",
              "      <td>0</td>\n",
              "      <td>0</td>\n",
              "      <td>0</td>\n",
              "      <td>0</td>\n",
              "      <td>...</td>\n",
              "      <td>0</td>\n",
              "      <td>0</td>\n",
              "      <td>0</td>\n",
              "      <td>308</td>\n",
              "      <td>4</td>\n",
              "      <td>887738847</td>\n",
              "      <td>60</td>\n",
              "      <td>M</td>\n",
              "      <td>retired</td>\n",
              "      <td>95076</td>\n",
              "    </tr>\n",
              "    <tr>\n",
              "      <th>4</th>\n",
              "      <td>8</td>\n",
              "      <td>Babe (1995)</td>\n",
              "      <td>01-Jan-1995</td>\n",
              "      <td>NaN</td>\n",
              "      <td>http://us.imdb.com/M/title-exact?Babe%20(1995)</td>\n",
              "      <td>0</td>\n",
              "      <td>0</td>\n",
              "      <td>0</td>\n",
              "      <td>0</td>\n",
              "      <td>1</td>\n",
              "      <td>...</td>\n",
              "      <td>0</td>\n",
              "      <td>0</td>\n",
              "      <td>0</td>\n",
              "      <td>308</td>\n",
              "      <td>5</td>\n",
              "      <td>887736696</td>\n",
              "      <td>60</td>\n",
              "      <td>M</td>\n",
              "      <td>retired</td>\n",
              "      <td>95076</td>\n",
              "    </tr>\n",
              "  </tbody>\n",
              "</table>\n",
              "<p>5 rows × 31 columns</p>\n",
              "</div>\n",
              "      <button class=\"colab-df-convert\" onclick=\"convertToInteractive('df-dd6807ed-2506-41d5-9a46-5a5f700433a4')\"\n",
              "              title=\"Convert this dataframe to an interactive table.\"\n",
              "              style=\"display:none;\">\n",
              "        \n",
              "  <svg xmlns=\"http://www.w3.org/2000/svg\" height=\"24px\"viewBox=\"0 0 24 24\"\n",
              "       width=\"24px\">\n",
              "    <path d=\"M0 0h24v24H0V0z\" fill=\"none\"/>\n",
              "    <path d=\"M18.56 5.44l.94 2.06.94-2.06 2.06-.94-2.06-.94-.94-2.06-.94 2.06-2.06.94zm-11 1L8.5 8.5l.94-2.06 2.06-.94-2.06-.94L8.5 2.5l-.94 2.06-2.06.94zm10 10l.94 2.06.94-2.06 2.06-.94-2.06-.94-.94-2.06-.94 2.06-2.06.94z\"/><path d=\"M17.41 7.96l-1.37-1.37c-.4-.4-.92-.59-1.43-.59-.52 0-1.04.2-1.43.59L10.3 9.45l-7.72 7.72c-.78.78-.78 2.05 0 2.83L4 21.41c.39.39.9.59 1.41.59.51 0 1.02-.2 1.41-.59l7.78-7.78 2.81-2.81c.8-.78.8-2.07 0-2.86zM5.41 20L4 18.59l7.72-7.72 1.47 1.35L5.41 20z\"/>\n",
              "  </svg>\n",
              "      </button>\n",
              "      \n",
              "  <style>\n",
              "    .colab-df-container {\n",
              "      display:flex;\n",
              "      flex-wrap:wrap;\n",
              "      gap: 12px;\n",
              "    }\n",
              "\n",
              "    .colab-df-convert {\n",
              "      background-color: #E8F0FE;\n",
              "      border: none;\n",
              "      border-radius: 50%;\n",
              "      cursor: pointer;\n",
              "      display: none;\n",
              "      fill: #1967D2;\n",
              "      height: 32px;\n",
              "      padding: 0 0 0 0;\n",
              "      width: 32px;\n",
              "    }\n",
              "\n",
              "    .colab-df-convert:hover {\n",
              "      background-color: #E2EBFA;\n",
              "      box-shadow: 0px 1px 2px rgba(60, 64, 67, 0.3), 0px 1px 3px 1px rgba(60, 64, 67, 0.15);\n",
              "      fill: #174EA6;\n",
              "    }\n",
              "\n",
              "    [theme=dark] .colab-df-convert {\n",
              "      background-color: #3B4455;\n",
              "      fill: #D2E3FC;\n",
              "    }\n",
              "\n",
              "    [theme=dark] .colab-df-convert:hover {\n",
              "      background-color: #434B5C;\n",
              "      box-shadow: 0px 1px 3px 1px rgba(0, 0, 0, 0.15);\n",
              "      filter: drop-shadow(0px 1px 2px rgba(0, 0, 0, 0.3));\n",
              "      fill: #FFFFFF;\n",
              "    }\n",
              "  </style>\n",
              "\n",
              "      <script>\n",
              "        const buttonEl =\n",
              "          document.querySelector('#df-dd6807ed-2506-41d5-9a46-5a5f700433a4 button.colab-df-convert');\n",
              "        buttonEl.style.display =\n",
              "          google.colab.kernel.accessAllowed ? 'block' : 'none';\n",
              "\n",
              "        async function convertToInteractive(key) {\n",
              "          const element = document.querySelector('#df-dd6807ed-2506-41d5-9a46-5a5f700433a4');\n",
              "          const dataTable =\n",
              "            await google.colab.kernel.invokeFunction('convertToInteractive',\n",
              "                                                     [key], {});\n",
              "          if (!dataTable) return;\n",
              "\n",
              "          const docLinkHtml = 'Like what you see? Visit the ' +\n",
              "            '<a target=\"_blank\" href=https://colab.research.google.com/notebooks/data_table.ipynb>data table notebook</a>'\n",
              "            + ' to learn more about interactive tables.';\n",
              "          element.innerHTML = '';\n",
              "          dataTable['output_type'] = 'display_data';\n",
              "          await google.colab.output.renderOutput(dataTable, element);\n",
              "          const docLink = document.createElement('div');\n",
              "          docLink.innerHTML = docLinkHtml;\n",
              "          element.appendChild(docLink);\n",
              "        }\n",
              "      </script>\n",
              "    </div>\n",
              "  </div>\n",
              "  "
            ]
          },
          "metadata": {},
          "execution_count": 7
        }
      ]
    },
    {
      "cell_type": "markdown",
      "source": [
        "Defining the features for the wide model"
      ],
      "metadata": {
        "id": "Oo50uheLi1sB"
      }
    },
    {
      "cell_type": "code",
      "source": [
        "wide_features = combined_data[['gender', 'occupation']]"
      ],
      "metadata": {
        "id": "spl3cVyni6Ak"
      },
      "execution_count": null,
      "outputs": []
    },
    {
      "cell_type": "code",
      "source": [
        "wide_features['gender_occupation'] = wide_features['gender'] + \"_\" + wide_features['occupation']"
      ],
      "metadata": {
        "colab": {
          "base_uri": "https://localhost:8080/"
        },
        "id": "C-MafqQZi5-O",
        "outputId": "6a536bfb-6205-4c72-b394-b13bcd47c579"
      },
      "execution_count": null,
      "outputs": [
        {
          "output_type": "stream",
          "name": "stderr",
          "text": [
            "/usr/local/lib/python3.7/dist-packages/ipykernel_launcher.py:1: SettingWithCopyWarning: \n",
            "A value is trying to be set on a copy of a slice from a DataFrame.\n",
            "Try using .loc[row_indexer,col_indexer] = value instead\n",
            "\n",
            "See the caveats in the documentation: https://pandas.pydata.org/pandas-docs/stable/user_guide/indexing.html#returning-a-view-versus-a-copy\n",
            "  \"\"\"Entry point for launching an IPython kernel.\n"
          ]
        }
      ]
    },
    {
      "cell_type": "markdown",
      "source": [
        "Encoding the features for the wide model"
      ],
      "metadata": {
        "id": "Yz1DbAfojaTp"
      }
    },
    {
      "cell_type": "code",
      "source": [
        "encoder = OneHotEncoder(handle_unknown='ignore')\n",
        "encoder.fit(wide_features[['gender_occupation']])\n",
        "one_hot_encoded_df = pd.DataFrame(encoder.transform(wide_features[['gender_occupation']]).toarray(),\n",
        "                                  columns=encoder.get_feature_names())\n",
        "wide_features = wide_features.join(one_hot_encoded_df)\n",
        "wide_features.drop(['gender', 'occupation', 'gender_occupation'], axis=1, inplace=True)"
      ],
      "metadata": {
        "colab": {
          "base_uri": "https://localhost:8080/"
        },
        "id": "PHp6gDRDi576",
        "outputId": "16039c5e-5fbb-4271-b796-a931f3ee4275"
      },
      "execution_count": null,
      "outputs": [
        {
          "output_type": "stream",
          "name": "stderr",
          "text": [
            "/usr/local/lib/python3.7/dist-packages/sklearn/utils/deprecation.py:87: FutureWarning: Function get_feature_names is deprecated; get_feature_names is deprecated in 1.0 and will be removed in 1.2. Please use get_feature_names_out instead.\n",
            "  warnings.warn(msg, category=FutureWarning)\n"
          ]
        }
      ]
    },
    {
      "cell_type": "code",
      "source": [
        "wide_features.head()"
      ],
      "metadata": {
        "colab": {
          "base_uri": "https://localhost:8080/",
          "height": 300
        },
        "id": "1JgN7iF8jdlI",
        "outputId": "d2ee1430-a8f7-4566-cff7-b26e2fb65ac6"
      },
      "execution_count": null,
      "outputs": [
        {
          "output_type": "execute_result",
          "data": {
            "text/plain": [
              "   x0_F_administrator  x0_F_artist  x0_F_educator  x0_F_engineer  \\\n",
              "0                 0.0          0.0            0.0            0.0   \n",
              "1                 0.0          0.0            0.0            0.0   \n",
              "2                 0.0          0.0            0.0            0.0   \n",
              "3                 0.0          0.0            0.0            0.0   \n",
              "4                 0.0          0.0            0.0            0.0   \n",
              "\n",
              "   x0_F_entertainment  x0_F_executive  x0_F_healthcare  x0_F_homemaker  \\\n",
              "0                 0.0             0.0              0.0             0.0   \n",
              "1                 0.0             0.0              0.0             0.0   \n",
              "2                 0.0             0.0              0.0             0.0   \n",
              "3                 0.0             0.0              0.0             0.0   \n",
              "4                 0.0             0.0              0.0             0.0   \n",
              "\n",
              "   x0_F_lawyer  x0_F_librarian  ...  x0_M_marketing  x0_M_none  x0_M_other  \\\n",
              "0          0.0             0.0  ...             0.0        0.0         0.0   \n",
              "1          0.0             0.0  ...             0.0        0.0         0.0   \n",
              "2          0.0             0.0  ...             0.0        0.0         0.0   \n",
              "3          0.0             0.0  ...             0.0        0.0         0.0   \n",
              "4          0.0             0.0  ...             0.0        0.0         0.0   \n",
              "\n",
              "   x0_M_programmer  x0_M_retired  x0_M_salesman  x0_M_scientist  x0_M_student  \\\n",
              "0              0.0           1.0            0.0             0.0           0.0   \n",
              "1              0.0           1.0            0.0             0.0           0.0   \n",
              "2              0.0           1.0            0.0             0.0           0.0   \n",
              "3              0.0           1.0            0.0             0.0           0.0   \n",
              "4              0.0           1.0            0.0             0.0           0.0   \n",
              "\n",
              "   x0_M_technician  x0_M_writer  \n",
              "0              0.0          0.0  \n",
              "1              0.0          0.0  \n",
              "2              0.0          0.0  \n",
              "3              0.0          0.0  \n",
              "4              0.0          0.0  \n",
              "\n",
              "[5 rows x 41 columns]"
            ],
            "text/html": [
              "\n",
              "  <div id=\"df-3b05df5d-f35c-415f-89a7-736c5cbcc871\">\n",
              "    <div class=\"colab-df-container\">\n",
              "      <div>\n",
              "<style scoped>\n",
              "    .dataframe tbody tr th:only-of-type {\n",
              "        vertical-align: middle;\n",
              "    }\n",
              "\n",
              "    .dataframe tbody tr th {\n",
              "        vertical-align: top;\n",
              "    }\n",
              "\n",
              "    .dataframe thead th {\n",
              "        text-align: right;\n",
              "    }\n",
              "</style>\n",
              "<table border=\"1\" class=\"dataframe\">\n",
              "  <thead>\n",
              "    <tr style=\"text-align: right;\">\n",
              "      <th></th>\n",
              "      <th>x0_F_administrator</th>\n",
              "      <th>x0_F_artist</th>\n",
              "      <th>x0_F_educator</th>\n",
              "      <th>x0_F_engineer</th>\n",
              "      <th>x0_F_entertainment</th>\n",
              "      <th>x0_F_executive</th>\n",
              "      <th>x0_F_healthcare</th>\n",
              "      <th>x0_F_homemaker</th>\n",
              "      <th>x0_F_lawyer</th>\n",
              "      <th>x0_F_librarian</th>\n",
              "      <th>...</th>\n",
              "      <th>x0_M_marketing</th>\n",
              "      <th>x0_M_none</th>\n",
              "      <th>x0_M_other</th>\n",
              "      <th>x0_M_programmer</th>\n",
              "      <th>x0_M_retired</th>\n",
              "      <th>x0_M_salesman</th>\n",
              "      <th>x0_M_scientist</th>\n",
              "      <th>x0_M_student</th>\n",
              "      <th>x0_M_technician</th>\n",
              "      <th>x0_M_writer</th>\n",
              "    </tr>\n",
              "  </thead>\n",
              "  <tbody>\n",
              "    <tr>\n",
              "      <th>0</th>\n",
              "      <td>0.0</td>\n",
              "      <td>0.0</td>\n",
              "      <td>0.0</td>\n",
              "      <td>0.0</td>\n",
              "      <td>0.0</td>\n",
              "      <td>0.0</td>\n",
              "      <td>0.0</td>\n",
              "      <td>0.0</td>\n",
              "      <td>0.0</td>\n",
              "      <td>0.0</td>\n",
              "      <td>...</td>\n",
              "      <td>0.0</td>\n",
              "      <td>0.0</td>\n",
              "      <td>0.0</td>\n",
              "      <td>0.0</td>\n",
              "      <td>1.0</td>\n",
              "      <td>0.0</td>\n",
              "      <td>0.0</td>\n",
              "      <td>0.0</td>\n",
              "      <td>0.0</td>\n",
              "      <td>0.0</td>\n",
              "    </tr>\n",
              "    <tr>\n",
              "      <th>1</th>\n",
              "      <td>0.0</td>\n",
              "      <td>0.0</td>\n",
              "      <td>0.0</td>\n",
              "      <td>0.0</td>\n",
              "      <td>0.0</td>\n",
              "      <td>0.0</td>\n",
              "      <td>0.0</td>\n",
              "      <td>0.0</td>\n",
              "      <td>0.0</td>\n",
              "      <td>0.0</td>\n",
              "      <td>...</td>\n",
              "      <td>0.0</td>\n",
              "      <td>0.0</td>\n",
              "      <td>0.0</td>\n",
              "      <td>0.0</td>\n",
              "      <td>1.0</td>\n",
              "      <td>0.0</td>\n",
              "      <td>0.0</td>\n",
              "      <td>0.0</td>\n",
              "      <td>0.0</td>\n",
              "      <td>0.0</td>\n",
              "    </tr>\n",
              "    <tr>\n",
              "      <th>2</th>\n",
              "      <td>0.0</td>\n",
              "      <td>0.0</td>\n",
              "      <td>0.0</td>\n",
              "      <td>0.0</td>\n",
              "      <td>0.0</td>\n",
              "      <td>0.0</td>\n",
              "      <td>0.0</td>\n",
              "      <td>0.0</td>\n",
              "      <td>0.0</td>\n",
              "      <td>0.0</td>\n",
              "      <td>...</td>\n",
              "      <td>0.0</td>\n",
              "      <td>0.0</td>\n",
              "      <td>0.0</td>\n",
              "      <td>0.0</td>\n",
              "      <td>1.0</td>\n",
              "      <td>0.0</td>\n",
              "      <td>0.0</td>\n",
              "      <td>0.0</td>\n",
              "      <td>0.0</td>\n",
              "      <td>0.0</td>\n",
              "    </tr>\n",
              "    <tr>\n",
              "      <th>3</th>\n",
              "      <td>0.0</td>\n",
              "      <td>0.0</td>\n",
              "      <td>0.0</td>\n",
              "      <td>0.0</td>\n",
              "      <td>0.0</td>\n",
              "      <td>0.0</td>\n",
              "      <td>0.0</td>\n",
              "      <td>0.0</td>\n",
              "      <td>0.0</td>\n",
              "      <td>0.0</td>\n",
              "      <td>...</td>\n",
              "      <td>0.0</td>\n",
              "      <td>0.0</td>\n",
              "      <td>0.0</td>\n",
              "      <td>0.0</td>\n",
              "      <td>1.0</td>\n",
              "      <td>0.0</td>\n",
              "      <td>0.0</td>\n",
              "      <td>0.0</td>\n",
              "      <td>0.0</td>\n",
              "      <td>0.0</td>\n",
              "    </tr>\n",
              "    <tr>\n",
              "      <th>4</th>\n",
              "      <td>0.0</td>\n",
              "      <td>0.0</td>\n",
              "      <td>0.0</td>\n",
              "      <td>0.0</td>\n",
              "      <td>0.0</td>\n",
              "      <td>0.0</td>\n",
              "      <td>0.0</td>\n",
              "      <td>0.0</td>\n",
              "      <td>0.0</td>\n",
              "      <td>0.0</td>\n",
              "      <td>...</td>\n",
              "      <td>0.0</td>\n",
              "      <td>0.0</td>\n",
              "      <td>0.0</td>\n",
              "      <td>0.0</td>\n",
              "      <td>1.0</td>\n",
              "      <td>0.0</td>\n",
              "      <td>0.0</td>\n",
              "      <td>0.0</td>\n",
              "      <td>0.0</td>\n",
              "      <td>0.0</td>\n",
              "    </tr>\n",
              "  </tbody>\n",
              "</table>\n",
              "<p>5 rows × 41 columns</p>\n",
              "</div>\n",
              "      <button class=\"colab-df-convert\" onclick=\"convertToInteractive('df-3b05df5d-f35c-415f-89a7-736c5cbcc871')\"\n",
              "              title=\"Convert this dataframe to an interactive table.\"\n",
              "              style=\"display:none;\">\n",
              "        \n",
              "  <svg xmlns=\"http://www.w3.org/2000/svg\" height=\"24px\"viewBox=\"0 0 24 24\"\n",
              "       width=\"24px\">\n",
              "    <path d=\"M0 0h24v24H0V0z\" fill=\"none\"/>\n",
              "    <path d=\"M18.56 5.44l.94 2.06.94-2.06 2.06-.94-2.06-.94-.94-2.06-.94 2.06-2.06.94zm-11 1L8.5 8.5l.94-2.06 2.06-.94-2.06-.94L8.5 2.5l-.94 2.06-2.06.94zm10 10l.94 2.06.94-2.06 2.06-.94-2.06-.94-.94-2.06-.94 2.06-2.06.94z\"/><path d=\"M17.41 7.96l-1.37-1.37c-.4-.4-.92-.59-1.43-.59-.52 0-1.04.2-1.43.59L10.3 9.45l-7.72 7.72c-.78.78-.78 2.05 0 2.83L4 21.41c.39.39.9.59 1.41.59.51 0 1.02-.2 1.41-.59l7.78-7.78 2.81-2.81c.8-.78.8-2.07 0-2.86zM5.41 20L4 18.59l7.72-7.72 1.47 1.35L5.41 20z\"/>\n",
              "  </svg>\n",
              "      </button>\n",
              "      \n",
              "  <style>\n",
              "    .colab-df-container {\n",
              "      display:flex;\n",
              "      flex-wrap:wrap;\n",
              "      gap: 12px;\n",
              "    }\n",
              "\n",
              "    .colab-df-convert {\n",
              "      background-color: #E8F0FE;\n",
              "      border: none;\n",
              "      border-radius: 50%;\n",
              "      cursor: pointer;\n",
              "      display: none;\n",
              "      fill: #1967D2;\n",
              "      height: 32px;\n",
              "      padding: 0 0 0 0;\n",
              "      width: 32px;\n",
              "    }\n",
              "\n",
              "    .colab-df-convert:hover {\n",
              "      background-color: #E2EBFA;\n",
              "      box-shadow: 0px 1px 2px rgba(60, 64, 67, 0.3), 0px 1px 3px 1px rgba(60, 64, 67, 0.15);\n",
              "      fill: #174EA6;\n",
              "    }\n",
              "\n",
              "    [theme=dark] .colab-df-convert {\n",
              "      background-color: #3B4455;\n",
              "      fill: #D2E3FC;\n",
              "    }\n",
              "\n",
              "    [theme=dark] .colab-df-convert:hover {\n",
              "      background-color: #434B5C;\n",
              "      box-shadow: 0px 1px 3px 1px rgba(0, 0, 0, 0.15);\n",
              "      filter: drop-shadow(0px 1px 2px rgba(0, 0, 0, 0.3));\n",
              "      fill: #FFFFFF;\n",
              "    }\n",
              "  </style>\n",
              "\n",
              "      <script>\n",
              "        const buttonEl =\n",
              "          document.querySelector('#df-3b05df5d-f35c-415f-89a7-736c5cbcc871 button.colab-df-convert');\n",
              "        buttonEl.style.display =\n",
              "          google.colab.kernel.accessAllowed ? 'block' : 'none';\n",
              "\n",
              "        async function convertToInteractive(key) {\n",
              "          const element = document.querySelector('#df-3b05df5d-f35c-415f-89a7-736c5cbcc871');\n",
              "          const dataTable =\n",
              "            await google.colab.kernel.invokeFunction('convertToInteractive',\n",
              "                                                     [key], {});\n",
              "          if (!dataTable) return;\n",
              "\n",
              "          const docLinkHtml = 'Like what you see? Visit the ' +\n",
              "            '<a target=\"_blank\" href=https://colab.research.google.com/notebooks/data_table.ipynb>data table notebook</a>'\n",
              "            + ' to learn more about interactive tables.';\n",
              "          element.innerHTML = '';\n",
              "          dataTable['output_type'] = 'display_data';\n",
              "          await google.colab.output.renderOutput(dataTable, element);\n",
              "          const docLink = document.createElement('div');\n",
              "          docLink.innerHTML = docLinkHtml;\n",
              "          element.appendChild(docLink);\n",
              "        }\n",
              "      </script>\n",
              "    </div>\n",
              "  </div>\n",
              "  "
            ]
          },
          "metadata": {},
          "execution_count": 11
        }
      ]
    },
    {
      "cell_type": "markdown",
      "source": [
        "Defining the features for the deep model"
      ],
      "metadata": {
        "id": "zDRKu41jjqpe"
      }
    },
    {
      "cell_type": "code",
      "source": [
        "deep_features = combined_data[['age', 'unknown', 'Action', 'Adventure', 'Animation', 'Childrens', 'Comedy', 'Crime', 'Documentary',\n",
        "              'Drama', 'Fantasy', 'Film_Noir', 'Horror', 'Musical', 'Mystery', 'Romance ', 'Sci_Fi', 'Thriller', 'War',\n",
        "              'Western', 'gender', 'occupation']]"
      ],
      "metadata": {
        "id": "fo3EhBzEjqVb"
      },
      "execution_count": null,
      "outputs": []
    },
    {
      "cell_type": "code",
      "source": [
        "deep_features['genre'] = deep_features[['unknown', 'Action', 'Adventure', 'Animation', 'Childrens', 'Comedy', 'Crime', 'Documentary',\n",
        "                            'Drama', 'Fantasy', 'Film_Noir', 'Horror', 'Musical', 'Mystery', 'Romance ', 'Sci_Fi',\n",
        "                            'Thriller', 'War', 'Western']].idxmax(1)"
      ],
      "metadata": {
        "id": "kN1FTjiFi55Z",
        "colab": {
          "base_uri": "https://localhost:8080/"
        },
        "outputId": "b704133e-fee6-47f2-ed52-3f1c26be5c0f"
      },
      "execution_count": null,
      "outputs": [
        {
          "output_type": "stream",
          "name": "stderr",
          "text": [
            "/usr/local/lib/python3.7/dist-packages/ipykernel_launcher.py:3: SettingWithCopyWarning: \n",
            "A value is trying to be set on a copy of a slice from a DataFrame.\n",
            "Try using .loc[row_indexer,col_indexer] = value instead\n",
            "\n",
            "See the caveats in the documentation: https://pandas.pydata.org/pandas-docs/stable/user_guide/indexing.html#returning-a-view-versus-a-copy\n",
            "  This is separate from the ipykernel package so we can avoid doing imports until\n"
          ]
        }
      ]
    },
    {
      "cell_type": "code",
      "source": [
        "deep_features.drop(columns=['unknown', 'Action', 'Adventure', 'Animation', 'Childrens', 'Comedy', 'Crime', 'Documentary',\n",
        "                      'Drama', 'Fantasy', 'Film_Noir', 'Horror', 'Musical', 'Mystery', 'Romance ', 'Sci_Fi', 'Thriller',\n",
        "                      'War', 'Western'], axis=1, inplace=True)\n"
      ],
      "metadata": {
        "id": "iWjKBBkoi528",
        "colab": {
          "base_uri": "https://localhost:8080/"
        },
        "outputId": "f75b78c9-815e-46f9-de67-0092d9df9b58"
      },
      "execution_count": null,
      "outputs": [
        {
          "output_type": "stream",
          "name": "stderr",
          "text": [
            "/usr/local/lib/python3.7/dist-packages/pandas/core/frame.py:4913: SettingWithCopyWarning: \n",
            "A value is trying to be set on a copy of a slice from a DataFrame\n",
            "\n",
            "See the caveats in the documentation: https://pandas.pydata.org/pandas-docs/stable/user_guide/indexing.html#returning-a-view-versus-a-copy\n",
            "  errors=errors,\n"
          ]
        }
      ]
    },
    {
      "cell_type": "code",
      "source": [
        "deep_features.head()"
      ],
      "metadata": {
        "id": "63-yZf5Fi50O",
        "colab": {
          "base_uri": "https://localhost:8080/",
          "height": 206
        },
        "outputId": "3f846df2-5d89-4ddc-c0c8-314ef6667fc7"
      },
      "execution_count": null,
      "outputs": [
        {
          "output_type": "execute_result",
          "data": {
            "text/plain": [
              "   age gender occupation      genre\n",
              "0   60      M    retired  Animation\n",
              "1   60      M    retired     Action\n",
              "2   60      M    retired      Crime\n",
              "3   60      M    retired      Drama\n",
              "4   60      M    retired  Childrens"
            ],
            "text/html": [
              "\n",
              "  <div id=\"df-b200264a-28a7-4687-a7f9-dc405d9e82e0\">\n",
              "    <div class=\"colab-df-container\">\n",
              "      <div>\n",
              "<style scoped>\n",
              "    .dataframe tbody tr th:only-of-type {\n",
              "        vertical-align: middle;\n",
              "    }\n",
              "\n",
              "    .dataframe tbody tr th {\n",
              "        vertical-align: top;\n",
              "    }\n",
              "\n",
              "    .dataframe thead th {\n",
              "        text-align: right;\n",
              "    }\n",
              "</style>\n",
              "<table border=\"1\" class=\"dataframe\">\n",
              "  <thead>\n",
              "    <tr style=\"text-align: right;\">\n",
              "      <th></th>\n",
              "      <th>age</th>\n",
              "      <th>gender</th>\n",
              "      <th>occupation</th>\n",
              "      <th>genre</th>\n",
              "    </tr>\n",
              "  </thead>\n",
              "  <tbody>\n",
              "    <tr>\n",
              "      <th>0</th>\n",
              "      <td>60</td>\n",
              "      <td>M</td>\n",
              "      <td>retired</td>\n",
              "      <td>Animation</td>\n",
              "    </tr>\n",
              "    <tr>\n",
              "      <th>1</th>\n",
              "      <td>60</td>\n",
              "      <td>M</td>\n",
              "      <td>retired</td>\n",
              "      <td>Action</td>\n",
              "    </tr>\n",
              "    <tr>\n",
              "      <th>2</th>\n",
              "      <td>60</td>\n",
              "      <td>M</td>\n",
              "      <td>retired</td>\n",
              "      <td>Crime</td>\n",
              "    </tr>\n",
              "    <tr>\n",
              "      <th>3</th>\n",
              "      <td>60</td>\n",
              "      <td>M</td>\n",
              "      <td>retired</td>\n",
              "      <td>Drama</td>\n",
              "    </tr>\n",
              "    <tr>\n",
              "      <th>4</th>\n",
              "      <td>60</td>\n",
              "      <td>M</td>\n",
              "      <td>retired</td>\n",
              "      <td>Childrens</td>\n",
              "    </tr>\n",
              "  </tbody>\n",
              "</table>\n",
              "</div>\n",
              "      <button class=\"colab-df-convert\" onclick=\"convertToInteractive('df-b200264a-28a7-4687-a7f9-dc405d9e82e0')\"\n",
              "              title=\"Convert this dataframe to an interactive table.\"\n",
              "              style=\"display:none;\">\n",
              "        \n",
              "  <svg xmlns=\"http://www.w3.org/2000/svg\" height=\"24px\"viewBox=\"0 0 24 24\"\n",
              "       width=\"24px\">\n",
              "    <path d=\"M0 0h24v24H0V0z\" fill=\"none\"/>\n",
              "    <path d=\"M18.56 5.44l.94 2.06.94-2.06 2.06-.94-2.06-.94-.94-2.06-.94 2.06-2.06.94zm-11 1L8.5 8.5l.94-2.06 2.06-.94-2.06-.94L8.5 2.5l-.94 2.06-2.06.94zm10 10l.94 2.06.94-2.06 2.06-.94-2.06-.94-.94-2.06-.94 2.06-2.06.94z\"/><path d=\"M17.41 7.96l-1.37-1.37c-.4-.4-.92-.59-1.43-.59-.52 0-1.04.2-1.43.59L10.3 9.45l-7.72 7.72c-.78.78-.78 2.05 0 2.83L4 21.41c.39.39.9.59 1.41.59.51 0 1.02-.2 1.41-.59l7.78-7.78 2.81-2.81c.8-.78.8-2.07 0-2.86zM5.41 20L4 18.59l7.72-7.72 1.47 1.35L5.41 20z\"/>\n",
              "  </svg>\n",
              "      </button>\n",
              "      \n",
              "  <style>\n",
              "    .colab-df-container {\n",
              "      display:flex;\n",
              "      flex-wrap:wrap;\n",
              "      gap: 12px;\n",
              "    }\n",
              "\n",
              "    .colab-df-convert {\n",
              "      background-color: #E8F0FE;\n",
              "      border: none;\n",
              "      border-radius: 50%;\n",
              "      cursor: pointer;\n",
              "      display: none;\n",
              "      fill: #1967D2;\n",
              "      height: 32px;\n",
              "      padding: 0 0 0 0;\n",
              "      width: 32px;\n",
              "    }\n",
              "\n",
              "    .colab-df-convert:hover {\n",
              "      background-color: #E2EBFA;\n",
              "      box-shadow: 0px 1px 2px rgba(60, 64, 67, 0.3), 0px 1px 3px 1px rgba(60, 64, 67, 0.15);\n",
              "      fill: #174EA6;\n",
              "    }\n",
              "\n",
              "    [theme=dark] .colab-df-convert {\n",
              "      background-color: #3B4455;\n",
              "      fill: #D2E3FC;\n",
              "    }\n",
              "\n",
              "    [theme=dark] .colab-df-convert:hover {\n",
              "      background-color: #434B5C;\n",
              "      box-shadow: 0px 1px 3px 1px rgba(0, 0, 0, 0.15);\n",
              "      filter: drop-shadow(0px 1px 2px rgba(0, 0, 0, 0.3));\n",
              "      fill: #FFFFFF;\n",
              "    }\n",
              "  </style>\n",
              "\n",
              "      <script>\n",
              "        const buttonEl =\n",
              "          document.querySelector('#df-b200264a-28a7-4687-a7f9-dc405d9e82e0 button.colab-df-convert');\n",
              "        buttonEl.style.display =\n",
              "          google.colab.kernel.accessAllowed ? 'block' : 'none';\n",
              "\n",
              "        async function convertToInteractive(key) {\n",
              "          const element = document.querySelector('#df-b200264a-28a7-4687-a7f9-dc405d9e82e0');\n",
              "          const dataTable =\n",
              "            await google.colab.kernel.invokeFunction('convertToInteractive',\n",
              "                                                     [key], {});\n",
              "          if (!dataTable) return;\n",
              "\n",
              "          const docLinkHtml = 'Like what you see? Visit the ' +\n",
              "            '<a target=\"_blank\" href=https://colab.research.google.com/notebooks/data_table.ipynb>data table notebook</a>'\n",
              "            + ' to learn more about interactive tables.';\n",
              "          element.innerHTML = '';\n",
              "          dataTable['output_type'] = 'display_data';\n",
              "          await google.colab.output.renderOutput(dataTable, element);\n",
              "          const docLink = document.createElement('div');\n",
              "          docLink.innerHTML = docLinkHtml;\n",
              "          element.appendChild(docLink);\n",
              "        }\n",
              "      </script>\n",
              "    </div>\n",
              "  </div>\n",
              "  "
            ]
          },
          "metadata": {},
          "execution_count": 15
        }
      ]
    },
    {
      "cell_type": "markdown",
      "source": [
        "Encoding the deep model features"
      ],
      "metadata": {
        "id": "OS332cRJkl_J"
      }
    },
    {
      "cell_type": "code",
      "source": [
        "for feature in ['gender', 'occupation', 'genre']:\n",
        "    encoder = LabelEncoder()\n",
        "    encoder.fit(deep_features[[feature]])\n",
        "    transformed_feature = encoder.transform(deep_features[[feature]])\n",
        "    deep_features[feature] = transformed_feature"
      ],
      "metadata": {
        "id": "QLs8dVLxi5xd",
        "colab": {
          "base_uri": "https://localhost:8080/"
        },
        "outputId": "39bb05f6-2952-4e5e-fd62-9e775d5132bb"
      },
      "execution_count": null,
      "outputs": [
        {
          "output_type": "stream",
          "name": "stderr",
          "text": [
            "/usr/local/lib/python3.7/dist-packages/sklearn/preprocessing/_label.py:98: DataConversionWarning: A column-vector y was passed when a 1d array was expected. Please change the shape of y to (n_samples, ), for example using ravel().\n",
            "  y = column_or_1d(y, warn=True)\n",
            "/usr/local/lib/python3.7/dist-packages/sklearn/preprocessing/_label.py:133: DataConversionWarning: A column-vector y was passed when a 1d array was expected. Please change the shape of y to (n_samples, ), for example using ravel().\n",
            "  y = column_or_1d(y, warn=True)\n",
            "/usr/local/lib/python3.7/dist-packages/ipykernel_launcher.py:5: SettingWithCopyWarning: \n",
            "A value is trying to be set on a copy of a slice from a DataFrame.\n",
            "Try using .loc[row_indexer,col_indexer] = value instead\n",
            "\n",
            "See the caveats in the documentation: https://pandas.pydata.org/pandas-docs/stable/user_guide/indexing.html#returning-a-view-versus-a-copy\n",
            "  \"\"\"\n"
          ]
        }
      ]
    },
    {
      "cell_type": "code",
      "source": [
        "for feature in ['age']:\n",
        "    scaler = MinMaxScaler()\n",
        "    scaler.fit(deep_features[[feature]])\n",
        "    transformed_feature = scaler.transform(deep_features[[feature]])\n",
        "    deep_features[feature] = transformed_feature"
      ],
      "metadata": {
        "id": "E5xA-EtHi5sI",
        "colab": {
          "base_uri": "https://localhost:8080/"
        },
        "outputId": "10d7ee98-6a1b-4a38-d0bd-145ce3015005"
      },
      "execution_count": null,
      "outputs": [
        {
          "output_type": "stream",
          "name": "stderr",
          "text": [
            "/usr/local/lib/python3.7/dist-packages/ipykernel_launcher.py:5: SettingWithCopyWarning: \n",
            "A value is trying to be set on a copy of a slice from a DataFrame.\n",
            "Try using .loc[row_indexer,col_indexer] = value instead\n",
            "\n",
            "See the caveats in the documentation: https://pandas.pydata.org/pandas-docs/stable/user_guide/indexing.html#returning-a-view-versus-a-copy\n",
            "  \"\"\"\n"
          ]
        }
      ]
    },
    {
      "cell_type": "code",
      "source": [
        "deep_features.head()"
      ],
      "metadata": {
        "id": "srm-LRNyi5pI",
        "colab": {
          "base_uri": "https://localhost:8080/",
          "height": 206
        },
        "outputId": "1f3c0ce6-9fad-486c-f413-003169394a10"
      },
      "execution_count": null,
      "outputs": [
        {
          "output_type": "execute_result",
          "data": {
            "text/plain": [
              "       age  gender  occupation  genre\n",
              "0  0.80303       1          15      2\n",
              "1  0.80303       1          15      0\n",
              "2  0.80303       1          15      5\n",
              "3  0.80303       1          15      7\n",
              "4  0.80303       1          15      3"
            ],
            "text/html": [
              "\n",
              "  <div id=\"df-fe0f5181-5838-44d6-84f5-a1787e5b2db4\">\n",
              "    <div class=\"colab-df-container\">\n",
              "      <div>\n",
              "<style scoped>\n",
              "    .dataframe tbody tr th:only-of-type {\n",
              "        vertical-align: middle;\n",
              "    }\n",
              "\n",
              "    .dataframe tbody tr th {\n",
              "        vertical-align: top;\n",
              "    }\n",
              "\n",
              "    .dataframe thead th {\n",
              "        text-align: right;\n",
              "    }\n",
              "</style>\n",
              "<table border=\"1\" class=\"dataframe\">\n",
              "  <thead>\n",
              "    <tr style=\"text-align: right;\">\n",
              "      <th></th>\n",
              "      <th>age</th>\n",
              "      <th>gender</th>\n",
              "      <th>occupation</th>\n",
              "      <th>genre</th>\n",
              "    </tr>\n",
              "  </thead>\n",
              "  <tbody>\n",
              "    <tr>\n",
              "      <th>0</th>\n",
              "      <td>0.80303</td>\n",
              "      <td>1</td>\n",
              "      <td>15</td>\n",
              "      <td>2</td>\n",
              "    </tr>\n",
              "    <tr>\n",
              "      <th>1</th>\n",
              "      <td>0.80303</td>\n",
              "      <td>1</td>\n",
              "      <td>15</td>\n",
              "      <td>0</td>\n",
              "    </tr>\n",
              "    <tr>\n",
              "      <th>2</th>\n",
              "      <td>0.80303</td>\n",
              "      <td>1</td>\n",
              "      <td>15</td>\n",
              "      <td>5</td>\n",
              "    </tr>\n",
              "    <tr>\n",
              "      <th>3</th>\n",
              "      <td>0.80303</td>\n",
              "      <td>1</td>\n",
              "      <td>15</td>\n",
              "      <td>7</td>\n",
              "    </tr>\n",
              "    <tr>\n",
              "      <th>4</th>\n",
              "      <td>0.80303</td>\n",
              "      <td>1</td>\n",
              "      <td>15</td>\n",
              "      <td>3</td>\n",
              "    </tr>\n",
              "  </tbody>\n",
              "</table>\n",
              "</div>\n",
              "      <button class=\"colab-df-convert\" onclick=\"convertToInteractive('df-fe0f5181-5838-44d6-84f5-a1787e5b2db4')\"\n",
              "              title=\"Convert this dataframe to an interactive table.\"\n",
              "              style=\"display:none;\">\n",
              "        \n",
              "  <svg xmlns=\"http://www.w3.org/2000/svg\" height=\"24px\"viewBox=\"0 0 24 24\"\n",
              "       width=\"24px\">\n",
              "    <path d=\"M0 0h24v24H0V0z\" fill=\"none\"/>\n",
              "    <path d=\"M18.56 5.44l.94 2.06.94-2.06 2.06-.94-2.06-.94-.94-2.06-.94 2.06-2.06.94zm-11 1L8.5 8.5l.94-2.06 2.06-.94-2.06-.94L8.5 2.5l-.94 2.06-2.06.94zm10 10l.94 2.06.94-2.06 2.06-.94-2.06-.94-.94-2.06-.94 2.06-2.06.94z\"/><path d=\"M17.41 7.96l-1.37-1.37c-.4-.4-.92-.59-1.43-.59-.52 0-1.04.2-1.43.59L10.3 9.45l-7.72 7.72c-.78.78-.78 2.05 0 2.83L4 21.41c.39.39.9.59 1.41.59.51 0 1.02-.2 1.41-.59l7.78-7.78 2.81-2.81c.8-.78.8-2.07 0-2.86zM5.41 20L4 18.59l7.72-7.72 1.47 1.35L5.41 20z\"/>\n",
              "  </svg>\n",
              "      </button>\n",
              "      \n",
              "  <style>\n",
              "    .colab-df-container {\n",
              "      display:flex;\n",
              "      flex-wrap:wrap;\n",
              "      gap: 12px;\n",
              "    }\n",
              "\n",
              "    .colab-df-convert {\n",
              "      background-color: #E8F0FE;\n",
              "      border: none;\n",
              "      border-radius: 50%;\n",
              "      cursor: pointer;\n",
              "      display: none;\n",
              "      fill: #1967D2;\n",
              "      height: 32px;\n",
              "      padding: 0 0 0 0;\n",
              "      width: 32px;\n",
              "    }\n",
              "\n",
              "    .colab-df-convert:hover {\n",
              "      background-color: #E2EBFA;\n",
              "      box-shadow: 0px 1px 2px rgba(60, 64, 67, 0.3), 0px 1px 3px 1px rgba(60, 64, 67, 0.15);\n",
              "      fill: #174EA6;\n",
              "    }\n",
              "\n",
              "    [theme=dark] .colab-df-convert {\n",
              "      background-color: #3B4455;\n",
              "      fill: #D2E3FC;\n",
              "    }\n",
              "\n",
              "    [theme=dark] .colab-df-convert:hover {\n",
              "      background-color: #434B5C;\n",
              "      box-shadow: 0px 1px 3px 1px rgba(0, 0, 0, 0.15);\n",
              "      filter: drop-shadow(0px 1px 2px rgba(0, 0, 0, 0.3));\n",
              "      fill: #FFFFFF;\n",
              "    }\n",
              "  </style>\n",
              "\n",
              "      <script>\n",
              "        const buttonEl =\n",
              "          document.querySelector('#df-fe0f5181-5838-44d6-84f5-a1787e5b2db4 button.colab-df-convert');\n",
              "        buttonEl.style.display =\n",
              "          google.colab.kernel.accessAllowed ? 'block' : 'none';\n",
              "\n",
              "        async function convertToInteractive(key) {\n",
              "          const element = document.querySelector('#df-fe0f5181-5838-44d6-84f5-a1787e5b2db4');\n",
              "          const dataTable =\n",
              "            await google.colab.kernel.invokeFunction('convertToInteractive',\n",
              "                                                     [key], {});\n",
              "          if (!dataTable) return;\n",
              "\n",
              "          const docLinkHtml = 'Like what you see? Visit the ' +\n",
              "            '<a target=\"_blank\" href=https://colab.research.google.com/notebooks/data_table.ipynb>data table notebook</a>'\n",
              "            + ' to learn more about interactive tables.';\n",
              "          element.innerHTML = '';\n",
              "          dataTable['output_type'] = 'display_data';\n",
              "          await google.colab.output.renderOutput(dataTable, element);\n",
              "          const docLink = document.createElement('div');\n",
              "          docLink.innerHTML = docLinkHtml;\n",
              "          element.appendChild(docLink);\n",
              "        }\n",
              "      </script>\n",
              "    </div>\n",
              "  </div>\n",
              "  "
            ]
          },
          "metadata": {},
          "execution_count": 18
        }
      ]
    },
    {
      "cell_type": "markdown",
      "source": [
        "Splitting the dataset into train and test subsets"
      ],
      "metadata": {
        "id": "lM25lUPnlNYf"
      }
    },
    {
      "cell_type": "code",
      "source": [
        "X = pd.concat([wide_features, deep_features], axis=1)\n",
        "y = combined_data[['rating']]\n",
        "X_train, X_test, y_train, y_test = train_test_split(X, y, test_size=0.2, random_state=42)\n"
      ],
      "metadata": {
        "id": "mUSLWlMei5mS"
      },
      "execution_count": null,
      "outputs": []
    },
    {
      "cell_type": "code",
      "source": [
        "def prepare_independent_variables(X):\n",
        "  wide_inputs = X[['x0_F_administrator', 'x0_F_artist', 'x0_F_educator', 'x0_F_engineer',\n",
        "                     'x0_F_entertainment', 'x0_F_executive', 'x0_F_healthcare',\n",
        "                     'x0_F_homemaker', 'x0_F_lawyer', 'x0_F_librarian', 'x0_F_marketing',\n",
        "                     'x0_F_none', 'x0_F_other', 'x0_F_programmer', 'x0_F_retired',\n",
        "                     'x0_F_salesman', 'x0_F_scientist', 'x0_F_student', 'x0_F_technician',\n",
        "                     'x0_F_writer', 'x0_M_administrator', 'x0_M_artist', 'x0_M_doctor',\n",
        "                     'x0_M_educator', 'x0_M_engineer', 'x0_M_entertainment',\n",
        "                     'x0_M_executive', 'x0_M_healthcare', 'x0_M_homemaker', 'x0_M_lawyer',\n",
        "                     'x0_M_librarian', 'x0_M_marketing', 'x0_M_none', 'x0_M_other',\n",
        "                     'x0_M_programmer', 'x0_M_retired', 'x0_M_salesman', 'x0_M_scientist',\n",
        "                     'x0_M_student', 'x0_M_technician', 'x0_M_writer']].values\n",
        "  categorical_input_1 = X[['gender']].values\n",
        "  categorical_input_2 = X[['occupation']].values\n",
        "  categorical_input_3 = X[['genre']].values\n",
        "  numerical_input = X[['age']].values\n",
        "  return wide_inputs, categorical_input_1, categorical_input_2, categorical_input_3, \\\n",
        "           numerical_input"
      ],
      "metadata": {
        "id": "SmFbeGKHi5jT"
      },
      "execution_count": null,
      "outputs": []
    },
    {
      "cell_type": "code",
      "source": [
        "wide_inputs_train, categorical_input_1_train, categorical_input_2_train, \\\n",
        "categorical_input_3_train, numerical_input_train = prepare_independent_variables(X_train)\n",
        "\n",
        "wide_inputs_test, categorical_input_1_test, categorical_input_2_test, \\\n",
        "categorical_input_3_test, numerical_input_test = prepare_independent_variables(X_test)\n",
        "\n",
        "y_train = y_train.values\n",
        "y_test = y_test.values"
      ],
      "metadata": {
        "id": "Eou-zxHpi5c7"
      },
      "execution_count": null,
      "outputs": []
    },
    {
      "cell_type": "markdown",
      "source": [
        "Creating the Model"
      ],
      "metadata": {
        "id": "sJ4EHYtFmu8P"
      }
    },
    {
      "cell_type": "code",
      "source": [
        "max_num_categorical_values = 50\n",
        "emb_dimension = 1200\n",
        "max_sequence_length = 1"
      ],
      "metadata": {
        "id": "Q_g-8UZEmuwQ"
      },
      "execution_count": null,
      "outputs": []
    },
    {
      "cell_type": "code",
      "source": [
        "categorical_input_1 = Input(shape=(1,), name='categorical_input_1')\n",
        "emb_1 = Embedding(input_dim=max_num_categorical_values, output_dim=emb_dimension,\n",
        "                  input_length=max_sequence_length, name='emb_1')(categorical_input_1)\n",
        "emb_1 = Flatten()(emb_1)\n",
        "categorical_input_2 = Input(shape=(1,), name='categorical_input_2')\n",
        "emb_2 = Embedding(input_dim=max_num_categorical_values, output_dim=emb_dimension,\n",
        "                  input_length=max_sequence_length, name='emb_2')(categorical_input_2)\n",
        "emb_2 = Flatten()(emb_2)\n",
        "categorical_input_3 = Input(shape=(1,), name='categorical_input_3')\n",
        "emb_3 = Embedding(input_dim=max_num_categorical_values, output_dim=emb_dimension,\n",
        "                  input_length=max_sequence_length, name='emb_3')(categorical_input_3)\n",
        "emb_3 = Flatten()(emb_3)\n",
        "numerical_input = Input(shape=(1,), name='numerical_input')\n",
        "concatenated_embeddings = concatenate([emb_1, emb_2, emb_3, numerical_input])\n",
        "concatenated_embeddings = Dropout(rate=0.2)(concatenated_embeddings)"
      ],
      "metadata": {
        "id": "UkVTrM_Kmk9C"
      },
      "execution_count": null,
      "outputs": []
    },
    {
      "cell_type": "code",
      "source": [
        "x1 = Dense(1200, activation='relu')(concatenated_embeddings)\n",
        "x1 = Dropout(rate=0.25)(x1)\n",
        "x1 = Dense(1024, activation='relu',kernel_regularizer =tf.keras.regularizers.l2( l=0.01))(concatenated_embeddings)\n",
        "x1 = Dropout(rate=0.25)(x1)\n",
        "x2 = Dense(512, activation='relu',kernel_regularizer =tf.keras.regularizers.l2( l=0.01))(x1)\n",
        "x2 = Dropout(rate=0.25)(x2)\n",
        "x3 = Dense(256, activation='relu',kernel_regularizer =tf.keras.regularizers.l2( l=0.01))(x2)\n",
        "x3 = Dropout(rate=0.25)(x3)\n",
        "deep_output = Dense(64, activation='relu')(x3)"
      ],
      "metadata": {
        "id": "yx6RsHlxmk6L"
      },
      "execution_count": null,
      "outputs": []
    },
    {
      "cell_type": "code",
      "source": [
        "num_features = len(wide_features.columns)\n",
        "wide_inputs = Input(shape=(num_features,), name='wide_inputs')"
      ],
      "metadata": {
        "id": "dgVspWr0mk3k"
      },
      "execution_count": null,
      "outputs": []
    },
    {
      "cell_type": "code",
      "source": [
        "x = concatenate([wide_inputs, deep_output])\n",
        "x = Dropout(rate=0.2)(x)"
      ],
      "metadata": {
        "id": "bB_iuAEAmk1F"
      },
      "execution_count": null,
      "outputs": []
    },
    {
      "cell_type": "code",
      "source": [
        "wide_and_deep_output = Dense(1, activation='relu')(x)"
      ],
      "metadata": {
        "id": "hDUNTWSMngHg"
      },
      "execution_count": null,
      "outputs": []
    },
    {
      "cell_type": "code",
      "source": [
        "wide_and_deep_model = Model(inputs=[wide_inputs] + [categorical_input_1] + \n",
        "                            [categorical_input_2] + [categorical_input_3] + \n",
        "                            [numerical_input], outputs=wide_and_deep_output)"
      ],
      "metadata": {
        "id": "_nwLfQpMmkyG"
      },
      "execution_count": null,
      "outputs": []
    },
    {
      "cell_type": "code",
      "source": [
        "wide_and_deep_model.summary()"
      ],
      "metadata": {
        "colab": {
          "base_uri": "https://localhost:8080/"
        },
        "id": "Np7Sqx1XmkvG",
        "outputId": "6025a68f-49c1-4913-b08b-6a774d1a69ba"
      },
      "execution_count": null,
      "outputs": [
        {
          "output_type": "stream",
          "name": "stdout",
          "text": [
            "Model: \"model_2\"\n",
            "__________________________________________________________________________________________________\n",
            " Layer (type)                   Output Shape         Param #     Connected to                     \n",
            "==================================================================================================\n",
            " categorical_input_1 (InputLaye  [(None, 1)]         0           []                               \n",
            " r)                                                                                               \n",
            "                                                                                                  \n",
            " categorical_input_2 (InputLaye  [(None, 1)]         0           []                               \n",
            " r)                                                                                               \n",
            "                                                                                                  \n",
            " categorical_input_3 (InputLaye  [(None, 1)]         0           []                               \n",
            " r)                                                                                               \n",
            "                                                                                                  \n",
            " emb_1 (Embedding)              (None, 1, 1200)      60000       ['categorical_input_1[0][0]']    \n",
            "                                                                                                  \n",
            " emb_2 (Embedding)              (None, 1, 1200)      60000       ['categorical_input_2[0][0]']    \n",
            "                                                                                                  \n",
            " emb_3 (Embedding)              (None, 1, 1200)      60000       ['categorical_input_3[0][0]']    \n",
            "                                                                                                  \n",
            " flatten (Flatten)              (None, 1200)         0           ['emb_1[0][0]']                  \n",
            "                                                                                                  \n",
            " flatten_1 (Flatten)            (None, 1200)         0           ['emb_2[0][0]']                  \n",
            "                                                                                                  \n",
            " flatten_2 (Flatten)            (None, 1200)         0           ['emb_3[0][0]']                  \n",
            "                                                                                                  \n",
            " numerical_input (InputLayer)   [(None, 1)]          0           []                               \n",
            "                                                                                                  \n",
            " concatenate (Concatenate)      (None, 3601)         0           ['flatten[0][0]',                \n",
            "                                                                  'flatten_1[0][0]',              \n",
            "                                                                  'flatten_2[0][0]',              \n",
            "                                                                  'numerical_input[0][0]']        \n",
            "                                                                                                  \n",
            " dropout (Dropout)              (None, 3601)         0           ['concatenate[0][0]']            \n",
            "                                                                                                  \n",
            " dense_15 (Dense)               (None, 1024)         3688448     ['dropout[0][0]']                \n",
            "                                                                                                  \n",
            " dropout_13 (Dropout)           (None, 1024)         0           ['dense_15[0][0]']               \n",
            "                                                                                                  \n",
            " dense_16 (Dense)               (None, 512)          524800      ['dropout_13[0][0]']             \n",
            "                                                                                                  \n",
            " dropout_14 (Dropout)           (None, 512)          0           ['dense_16[0][0]']               \n",
            "                                                                                                  \n",
            " dense_17 (Dense)               (None, 256)          131328      ['dropout_14[0][0]']             \n",
            "                                                                                                  \n",
            " dropout_15 (Dropout)           (None, 256)          0           ['dense_17[0][0]']               \n",
            "                                                                                                  \n",
            " wide_inputs (InputLayer)       [(None, 41)]         0           []                               \n",
            "                                                                                                  \n",
            " dense_18 (Dense)               (None, 64)           16448       ['dropout_15[0][0]']             \n",
            "                                                                                                  \n",
            " concatenate_3 (Concatenate)    (None, 105)          0           ['wide_inputs[0][0]',            \n",
            "                                                                  'dense_18[0][0]']               \n",
            "                                                                                                  \n",
            " dropout_16 (Dropout)           (None, 105)          0           ['concatenate_3[0][0]']          \n",
            "                                                                                                  \n",
            " dense_19 (Dense)               (None, 1)            106         ['dropout_16[0][0]']             \n",
            "                                                                                                  \n",
            "==================================================================================================\n",
            "Total params: 4,541,130\n",
            "Trainable params: 4,541,130\n",
            "Non-trainable params: 0\n",
            "__________________________________________________________________________________________________\n"
          ]
        }
      ]
    },
    {
      "cell_type": "code",
      "source": [
        "wide_and_deep_model.compile(loss='mae', optimizer=tf.keras.optimizers.Adamax(learning_rate=0.0001, decay=1e-06), metrics=['mae','accuracy'])"
      ],
      "metadata": {
        "id": "7S6r2Lummksp"
      },
      "execution_count": null,
      "outputs": []
    },
    {
      "cell_type": "code",
      "source": [
        "wide_and_deep_model.fit(x={'wide_inputs': wide_inputs_train,\n",
        "                           'categorical_input_1': categorical_input_1_train,\n",
        "                           'categorical_input_2': categorical_input_2_train,\n",
        "                           'categorical_input_3': categorical_input_3_train,\n",
        "                           'numerical_input': numerical_input_train},\n",
        "                        y=y_train,\n",
        "                        batch_size=32, epochs=50, verbose=1,validation_split=0.2)"
      ],
      "metadata": {
        "colab": {
          "base_uri": "https://localhost:8080/"
        },
        "id": "XkMynWxAmkpw",
        "outputId": "7d879947-3df6-489b-ec9e-4c30e80cd90a"
      },
      "execution_count": null,
      "outputs": [
        {
          "output_type": "stream",
          "name": "stdout",
          "text": [
            "Epoch 1/50\n",
            "2000/2000 [==============================] - 14s 7ms/step - loss: 0.9530 - mae: 0.9444 - accuracy: 0.0608 - val_loss: 0.9349 - val_mae: 0.9276 - val_accuracy: 0.0619\n",
            "Epoch 2/50\n",
            "2000/2000 [==============================] - 13s 7ms/step - loss: 0.9523 - mae: 0.9450 - accuracy: 0.0608 - val_loss: 0.9197 - val_mae: 0.9130 - val_accuracy: 0.0619\n",
            "Epoch 3/50\n",
            "2000/2000 [==============================] - 13s 7ms/step - loss: 0.9473 - mae: 0.9409 - accuracy: 0.0608 - val_loss: 0.9105 - val_mae: 0.9044 - val_accuracy: 0.0619\n",
            "Epoch 4/50\n",
            "2000/2000 [==============================] - 13s 7ms/step - loss: 0.9449 - mae: 0.9390 - accuracy: 0.0608 - val_loss: 0.9208 - val_mae: 0.9155 - val_accuracy: 0.0619\n",
            "Epoch 5/50\n",
            "2000/2000 [==============================] - 13s 7ms/step - loss: 0.9469 - mae: 0.9414 - accuracy: 0.0608 - val_loss: 0.9072 - val_mae: 0.9015 - val_accuracy: 0.0619\n",
            "Epoch 6/50\n",
            "2000/2000 [==============================] - 14s 7ms/step - loss: 0.9429 - mae: 0.9376 - accuracy: 0.0608 - val_loss: 0.9093 - val_mae: 0.9035 - val_accuracy: 0.0619\n",
            "Epoch 7/50\n",
            "2000/2000 [==============================] - 15s 7ms/step - loss: 0.9445 - mae: 0.9394 - accuracy: 0.0608 - val_loss: 0.9127 - val_mae: 0.9075 - val_accuracy: 0.0619\n",
            "Epoch 8/50\n",
            "2000/2000 [==============================] - 13s 7ms/step - loss: 0.9421 - mae: 0.9372 - accuracy: 0.0608 - val_loss: 0.9094 - val_mae: 0.9049 - val_accuracy: 0.0619\n",
            "Epoch 9/50\n",
            "2000/2000 [==============================] - 13s 7ms/step - loss: 0.9429 - mae: 0.9383 - accuracy: 0.0608 - val_loss: 0.9156 - val_mae: 0.9102 - val_accuracy: 0.0619\n",
            "Epoch 10/50\n",
            "2000/2000 [==============================] - 14s 7ms/step - loss: 0.9418 - mae: 0.9371 - accuracy: 0.0608 - val_loss: 0.9045 - val_mae: 0.9003 - val_accuracy: 0.0619\n",
            "Epoch 11/50\n",
            "2000/2000 [==============================] - 13s 7ms/step - loss: 0.9403 - mae: 0.9357 - accuracy: 0.0608 - val_loss: 0.9006 - val_mae: 0.8954 - val_accuracy: 0.0619\n",
            "Epoch 12/50\n",
            "2000/2000 [==============================] - 13s 7ms/step - loss: 0.9399 - mae: 0.9354 - accuracy: 0.0608 - val_loss: 0.9043 - val_mae: 0.8993 - val_accuracy: 0.0619\n",
            "Epoch 13/50\n",
            "2000/2000 [==============================] - 13s 7ms/step - loss: 0.9423 - mae: 0.9379 - accuracy: 0.0608 - val_loss: 0.9201 - val_mae: 0.9148 - val_accuracy: 0.0619\n",
            "Epoch 14/50\n",
            "2000/2000 [==============================] - 13s 7ms/step - loss: 0.9376 - mae: 0.9332 - accuracy: 0.0608 - val_loss: 0.9042 - val_mae: 0.8994 - val_accuracy: 0.0619\n",
            "Epoch 15/50\n",
            "2000/2000 [==============================] - 13s 7ms/step - loss: 0.9371 - mae: 0.9327 - accuracy: 0.0608 - val_loss: 0.9227 - val_mae: 0.9182 - val_accuracy: 0.0619\n",
            "Epoch 16/50\n",
            "2000/2000 [==============================] - 13s 7ms/step - loss: 0.9377 - mae: 0.9332 - accuracy: 0.0608 - val_loss: 0.9236 - val_mae: 0.9197 - val_accuracy: 0.0619\n",
            "Epoch 17/50\n",
            "2000/2000 [==============================] - 13s 7ms/step - loss: 0.9374 - mae: 0.9332 - accuracy: 0.0608 - val_loss: 0.9067 - val_mae: 0.9029 - val_accuracy: 0.0619\n",
            "Epoch 18/50\n",
            "2000/2000 [==============================] - 14s 7ms/step - loss: 0.9364 - mae: 0.9322 - accuracy: 0.0608 - val_loss: 0.9011 - val_mae: 0.8966 - val_accuracy: 0.0619\n",
            "Epoch 19/50\n",
            "2000/2000 [==============================] - 13s 7ms/step - loss: 0.9368 - mae: 0.9325 - accuracy: 0.0608 - val_loss: 0.9110 - val_mae: 0.9072 - val_accuracy: 0.0619\n",
            "Epoch 20/50\n",
            "2000/2000 [==============================] - 13s 7ms/step - loss: 0.9361 - mae: 0.9319 - accuracy: 0.0608 - val_loss: 0.9080 - val_mae: 0.9041 - val_accuracy: 0.0619\n",
            "Epoch 21/50\n",
            "2000/2000 [==============================] - 13s 7ms/step - loss: 0.9356 - mae: 0.9315 - accuracy: 0.0608 - val_loss: 0.9066 - val_mae: 0.9027 - val_accuracy: 0.0619\n",
            "Epoch 22/50\n",
            "2000/2000 [==============================] - 13s 7ms/step - loss: 0.9371 - mae: 0.9331 - accuracy: 0.0608 - val_loss: 0.9129 - val_mae: 0.9089 - val_accuracy: 0.0619\n",
            "Epoch 23/50\n",
            "2000/2000 [==============================] - 13s 7ms/step - loss: 0.9374 - mae: 0.9334 - accuracy: 0.0608 - val_loss: 0.9100 - val_mae: 0.9060 - val_accuracy: 0.0619\n",
            "Epoch 24/50\n",
            "2000/2000 [==============================] - 13s 7ms/step - loss: 0.9362 - mae: 0.9322 - accuracy: 0.0608 - val_loss: 0.9093 - val_mae: 0.9056 - val_accuracy: 0.0619\n",
            "Epoch 25/50\n",
            "2000/2000 [==============================] - 13s 7ms/step - loss: 0.9347 - mae: 0.9309 - accuracy: 0.0608 - val_loss: 0.9158 - val_mae: 0.9121 - val_accuracy: 0.0619\n",
            "Epoch 26/50\n",
            "2000/2000 [==============================] - 13s 7ms/step - loss: 0.9350 - mae: 0.9310 - accuracy: 0.0608 - val_loss: 0.9029 - val_mae: 0.8991 - val_accuracy: 0.0619\n",
            "Epoch 27/50\n",
            "2000/2000 [==============================] - 13s 7ms/step - loss: 0.9361 - mae: 0.9322 - accuracy: 0.0608 - val_loss: 0.9025 - val_mae: 0.8987 - val_accuracy: 0.0619\n",
            "Epoch 28/50\n",
            "2000/2000 [==============================] - 13s 7ms/step - loss: 0.9322 - mae: 0.9285 - accuracy: 0.0608 - val_loss: 0.9029 - val_mae: 0.8990 - val_accuracy: 0.0619\n",
            "Epoch 29/50\n",
            "2000/2000 [==============================] - 14s 7ms/step - loss: 0.9317 - mae: 0.9280 - accuracy: 0.0608 - val_loss: 0.8962 - val_mae: 0.8926 - val_accuracy: 0.0619\n",
            "Epoch 30/50\n",
            "2000/2000 [==============================] - 13s 7ms/step - loss: 0.9331 - mae: 0.9293 - accuracy: 0.0608 - val_loss: 0.8958 - val_mae: 0.8917 - val_accuracy: 0.0619\n",
            "Epoch 31/50\n",
            "2000/2000 [==============================] - 13s 7ms/step - loss: 0.9345 - mae: 0.9309 - accuracy: 0.0608 - val_loss: 0.9135 - val_mae: 0.9093 - val_accuracy: 0.0619\n",
            "Epoch 32/50\n",
            "2000/2000 [==============================] - 13s 7ms/step - loss: 0.9336 - mae: 0.9298 - accuracy: 0.0608 - val_loss: 0.9069 - val_mae: 0.9034 - val_accuracy: 0.0619\n",
            "Epoch 33/50\n",
            "2000/2000 [==============================] - 13s 7ms/step - loss: 0.9307 - mae: 0.9270 - accuracy: 0.0608 - val_loss: 0.9006 - val_mae: 0.8970 - val_accuracy: 0.0619\n",
            "Epoch 34/50\n",
            "2000/2000 [==============================] - 13s 7ms/step - loss: 0.9318 - mae: 0.9282 - accuracy: 0.0608 - val_loss: 0.9046 - val_mae: 0.9009 - val_accuracy: 0.0619\n",
            "Epoch 35/50\n",
            "2000/2000 [==============================] - 13s 7ms/step - loss: 0.9321 - mae: 0.9284 - accuracy: 0.0608 - val_loss: 0.8970 - val_mae: 0.8933 - val_accuracy: 0.0619\n",
            "Epoch 36/50\n",
            "2000/2000 [==============================] - 13s 7ms/step - loss: 0.9332 - mae: 0.9295 - accuracy: 0.0608 - val_loss: 0.9131 - val_mae: 0.9098 - val_accuracy: 0.0619\n",
            "Epoch 37/50\n",
            "2000/2000 [==============================] - 13s 7ms/step - loss: 0.9313 - mae: 0.9277 - accuracy: 0.0608 - val_loss: 0.8998 - val_mae: 0.8958 - val_accuracy: 0.0619\n",
            "Epoch 38/50\n",
            "2000/2000 [==============================] - 13s 7ms/step - loss: 0.9318 - mae: 0.9281 - accuracy: 0.0608 - val_loss: 0.9095 - val_mae: 0.9062 - val_accuracy: 0.0619\n",
            "Epoch 39/50\n",
            "2000/2000 [==============================] - 15s 7ms/step - loss: 0.9335 - mae: 0.9300 - accuracy: 0.0608 - val_loss: 0.9125 - val_mae: 0.9092 - val_accuracy: 0.0619\n",
            "Epoch 40/50\n",
            "2000/2000 [==============================] - 13s 7ms/step - loss: 0.9319 - mae: 0.9284 - accuracy: 0.0608 - val_loss: 0.9047 - val_mae: 0.9008 - val_accuracy: 0.0619\n",
            "Epoch 41/50\n",
            "2000/2000 [==============================] - 13s 7ms/step - loss: 0.9294 - mae: 0.9258 - accuracy: 0.0608 - val_loss: 0.9055 - val_mae: 0.9027 - val_accuracy: 0.0619\n",
            "Epoch 42/50\n",
            "2000/2000 [==============================] - 13s 7ms/step - loss: 0.9285 - mae: 0.9252 - accuracy: 0.0608 - val_loss: 0.9108 - val_mae: 0.9071 - val_accuracy: 0.0619\n",
            "Epoch 43/50\n",
            "2000/2000 [==============================] - 13s 7ms/step - loss: 0.9307 - mae: 0.9272 - accuracy: 0.0608 - val_loss: 0.9061 - val_mae: 0.9026 - val_accuracy: 0.0619\n",
            "Epoch 44/50\n",
            "2000/2000 [==============================] - 13s 7ms/step - loss: 0.9287 - mae: 0.9253 - accuracy: 0.0608 - val_loss: 0.8991 - val_mae: 0.8960 - val_accuracy: 0.0619\n",
            "Epoch 45/50\n",
            "2000/2000 [==============================] - 13s 7ms/step - loss: 0.9295 - mae: 0.9261 - accuracy: 0.0608 - val_loss: 0.9044 - val_mae: 0.9011 - val_accuracy: 0.0619\n",
            "Epoch 46/50\n",
            "2000/2000 [==============================] - 13s 7ms/step - loss: 0.9290 - mae: 0.9257 - accuracy: 0.0608 - val_loss: 0.9052 - val_mae: 0.9018 - val_accuracy: 0.0619\n",
            "Epoch 47/50\n",
            "2000/2000 [==============================] - 13s 7ms/step - loss: 0.9307 - mae: 0.9274 - accuracy: 0.0608 - val_loss: 0.9054 - val_mae: 0.9021 - val_accuracy: 0.0619\n",
            "Epoch 48/50\n",
            "2000/2000 [==============================] - 13s 7ms/step - loss: 0.9292 - mae: 0.9259 - accuracy: 0.0608 - val_loss: 0.9028 - val_mae: 0.8998 - val_accuracy: 0.0619\n",
            "Epoch 49/50\n",
            "2000/2000 [==============================] - 13s 7ms/step - loss: 0.9285 - mae: 0.9251 - accuracy: 0.0608 - val_loss: 0.9075 - val_mae: 0.9045 - val_accuracy: 0.0619\n",
            "Epoch 50/50\n",
            "2000/2000 [==============================] - 14s 7ms/step - loss: 0.9281 - mae: 0.9249 - accuracy: 0.0608 - val_loss: 0.9022 - val_mae: 0.8987 - val_accuracy: 0.0619\n"
          ]
        },
        {
          "output_type": "execute_result",
          "data": {
            "text/plain": [
              "<keras.callbacks.History at 0x7f0f5ea596d0>"
            ]
          },
          "metadata": {},
          "execution_count": 79
        }
      ]
    },
    {
      "cell_type": "code",
      "source": [
        "loss=wide_and_deep_model.evaluate(x={'wide_inputs': wide_inputs_test,\n",
        "                                'categorical_input_1': categorical_input_1_test,\n",
        "                                'categorical_input_2': categorical_input_2_test,\n",
        "                                'categorical_input_3': categorical_input_3_test,\n",
        "                                'numerical_input': numerical_input_test},\n",
        "                             y=y_test,\n",
        "                             batch_size=32, verbose=1)"
      ],
      "metadata": {
        "colab": {
          "base_uri": "https://localhost:8080/"
        },
        "id": "UfznO7LcmknJ",
        "outputId": "6ede10dc-263b-461b-b836-bf184375d8a2"
      },
      "execution_count": null,
      "outputs": [
        {
          "output_type": "stream",
          "name": "stdout",
          "text": [
            "625/625 [==============================] - 2s 3ms/step - loss: 0.9008 - mae: 0.8972 - accuracy: 0.0615\n"
          ]
        }
      ]
    },
    {
      "cell_type": "code",
      "source": [
        "predictions = wide_and_deep_model.predict(x={'wide_inputs': wide_inputs_test,\n",
        "                                             'categorical_input_1': categorical_input_1_test,\n",
        "                                             'categorical_input_2': categorical_input_2_test,\n",
        "                                             'categorical_input_3': categorical_input_3_test,\n",
        "                                             'numerical_input': numerical_input_test},\n",
        "                                          batch_size=32, verbose=1)"
      ],
      "metadata": {
        "colab": {
          "base_uri": "https://localhost:8080/"
        },
        "id": "h4DjSkynmkkr",
        "outputId": "1dafa130-05ee-4216-d615-605c946daf7c"
      },
      "execution_count": null,
      "outputs": [
        {
          "output_type": "stream",
          "name": "stdout",
          "text": [
            "625/625 [==============================] - 1s 2ms/step\n"
          ]
        }
      ]
    },
    {
      "cell_type": "code",
      "source": [
        "np.round(predictions)\n",
        "predictions=predictions.astype(int)"
      ],
      "metadata": {
        "id": "sudtm03vmke3"
      },
      "execution_count": null,
      "outputs": []
    },
    {
      "cell_type": "code",
      "source": [
        "count=0\n",
        "for i in range (0,len(predictions)):\n",
        "  if predictions[i]==y_test[i]:\n",
        "    count+=1"
      ],
      "metadata": {
        "id": "-zHEai5cmkb9"
      },
      "execution_count": null,
      "outputs": []
    },
    {
      "cell_type": "code",
      "source": [
        "print(\"Prediction Accuracy=\",(count/len(y_test))*100)"
      ],
      "metadata": {
        "colab": {
          "base_uri": "https://localhost:8080/"
        },
        "id": "aiiX5tGbmkY-",
        "outputId": "4f322b02-a15b-494c-c8ab-e97dbf2456fa"
      },
      "execution_count": null,
      "outputs": [
        {
          "output_type": "stream",
          "name": "stdout",
          "text": [
            "Prediction Accuracy= 26.884999999999998\n"
          ]
        }
      ]
    }
  ]
}